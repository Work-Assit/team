{
 "cells": [
  {
   "cell_type": "code",
   "execution_count": 1,
   "id": "a40e7524",
   "metadata": {},
   "outputs": [
    {
     "name": "stdout",
     "output_type": "stream",
     "text": [
      " \n",
      " \n",
      "MINI            JAYAPRAKASH \n",
      "Mobile #  \n",
      "+91 98955 63402 \n",
      " Email – minijp1980@gmail.com  \n",
      " \n",
      " Objective \n",
      "Intend to work in a challenging environment and to work with more e\n",
      "xperienced people to learn and gain more \n",
      "knowledge. \n",
      "AREAS OF EXPERTISE Work Experience   \n",
      "Branch Operations People Management NBFC Sector Financial Accounts Muthoot FinCorp  (201 6-present)  \n",
      "Sr. Branch Manager  – Wad akkanchery  Thrissur Branch  \n",
      "• Customer Relationship & follow up. • Responsible for branch operations & profitability of the branch. \n",
      "Software  Skills   \n",
      " MS Excel  MS Word  MS PowerPoint Muthoot ERP \n",
      " Muthoot FinCorp (2011- 2016) \n",
      "Branch Manger – Athani Thrissur Branch \n",
      " \n",
      "• Building customer relationship and follow up. \n",
      "• Increase the gold loan volume.  Personal Details \n",
      " \n",
      "Muthoot FinCorp (2008 - 2011) \n",
      "Customer Support Executive – Athani Thrissur Branch  • Open new Customer service accounts. • Customer acquisition by promoting the product features and the company goodwill. • Recommend apt products to customers as per their requirements.   \n",
      "Cresol LLP Dubai UAE (2005 – 2006) \n",
      "Admin – Assistant \n",
      " \n",
      "• Preparing and Sending Quotations \n",
      "• Invoice Preparation  • \n",
      "Payment Follow-up  \n",
      "• Visa renewal process for employees. \n",
      " D.O.B: 1st Sept 1975 Gender:  Female Marital Status: Married Driving License: India    \n",
      "  \n",
      "\n",
      "Personal Skills  Entrepreneurial Hands-On Pro-active Resourceful  \n",
      "  Technical Experience \n",
      " \n",
      "• Conducted Training for new joiners \n",
      "• Periodic Training provided for staff on Customer \n",
      "management. \n",
      "               \n",
      "References Academic Qualifications  \n",
      "Available upon Request • Master of Com merce  Course Completed 1998  \n",
      "• Bachelor of Commerce University of Calicut 1996 • PDC University of Calicut 1993 • SSLC 1991 \n",
      " \n",
      "  \n",
      " \n",
      "0\n",
      "'muthoot fincorp'\n",
      "['muthoot fincorp']\n",
      " \n",
      " \n",
      "MINI            JAYAPRAKASH \n",
      "Mobile #  \n",
      "+91 98955 63402 \n",
      " Email – minijp1980@gmail.com  \n",
      " \n",
      " Objective \n",
      "Intend to work in a challenging environment and to work with more e\n",
      "xperienced people to learn and gain more \n",
      "knowledge. \n",
      "AREAS OF EXPERTISE Work Experience   \n",
      "Branch Operations People Management NBFC Sector Financial Accounts Muthoot FinCorp  (201 6-present)  \n",
      "Sr. Branch Manager  – Wad akkanchery  Thrissur Branch  \n",
      "• Customer Relationship & follow up. • Responsible for branch operations & profitability of the branch. \n",
      "Software  Skills   \n",
      " MS Excel  MS Word  MS PowerPoint Muthoot ERP \n",
      " Muthoot FinCorp (2011- 2016) \n",
      "Branch Manger – Athani Thrissur Branch \n",
      " \n",
      "• Building customer relationship and follow up. \n",
      "• Increase the gold loan volume.  Personal Details \n",
      " \n",
      "Muthoot FinCorp (2008 - 2011) \n",
      "Customer Support Executive – Athani Thrissur Branch  • Open new Customer service accounts. • Customer acquisition by promoting the product features and the company goodwill. • Recommend apt products to customers as per their requirements.   \n",
      "Cresol LLP Dubai UAE (2005 – 2006) \n",
      "Admin – Assistant \n",
      " \n",
      "• Preparing and Sending Quotations \n",
      "• Invoice Preparation  • \n",
      "Payment Follow-up  \n",
      "• Visa renewal process for employees. \n",
      " D.O.B: 1st Sept 1975 Gender:  Female Marital Status: Married Driving License: India    \n",
      "  \n",
      "\n",
      "Personal Skills  Entrepreneurial Hands-On Pro-active Resourceful  \n",
      "  Technical Experience \n",
      " \n",
      "• Conducted Training for new joiners \n",
      "• Periodic Training provided for staff on Customer \n",
      "management. \n",
      "               \n",
      "References Academic Qualifications  \n",
      "Available upon Request • Master of Com merce  Course Completed 1998  \n",
      "• Bachelor of Commerce University of Calicut 1996 • PDC University of Calicut 1993 • SSLC 1991 \n",
      " \n",
      "  \n",
      " \n",
      "['+91 98955 63402']\n",
      "['+91 98955 63402']\n",
      "['minijp1980@gmail.com']\n",
      "['minijp1980@gmail.com']\n",
      "9\n"
     ]
    },
    {
     "name": "stderr",
     "output_type": "stream",
     "text": [
      "C:\\Users\\ASUS\\anaconda3\\lib\\site-packages\\spacy\\util.py:877: UserWarning: [W095] Model 'en_core_web_sm' (3.4.1) was trained with spaCy v3.4 and may not be 100% compatible with the current version (3.5.0). If you see errors or degraded performance, download a newer compatible model or retrain your custom model with the current spaCy version. For more details and available updates, run: python -m spacy validate\n",
      "  warnings.warn(warn_msg)\n"
     ]
    },
    {
     "name": "stdout",
     "output_type": "stream",
     "text": [
      "muthoot fincorp\n",
      "['MINI', 'AREAS', 'OF', 'NBFC', 'MS', 'MS', 'MS', 'ERP', 'LLP', 'UAE', 'PDC', 'SSLC']\n",
      " \n",
      " \n",
      "mini            jayaprakash \n",
      "mobile #  \n",
      "+91 98955 63402 \n",
      " email – minijp1980@gmail.com  \n",
      " \n",
      " objective \n",
      "intend to work in a challenging environment and to work with more e\n",
      "xperienced people to learn and gain more \n",
      "knowledge. \n",
      "areas of expertise work experience   \n",
      "branch operations people management nbfc sector financial accounts muthoot fincorp  (201 6-present)  \n",
      "sr. branch manager  – wad akkanchery  thrissur branch  \n",
      "• customer relationship & follow up. • responsible for branch operations & profitability of the branch. \n",
      "software  skills   \n",
      " ms excel  ms word  ms powerpoint muthoot erp \n",
      " muthoot fincorp (2011- 2016) \n",
      "branch manger – athani thrissur branch \n",
      " \n",
      "• building customer relationship and follow up. \n",
      "• increase the gold loan volume.  personal details \n",
      " \n",
      "muthoot fincorp (2008 - 2011) \n",
      "customer support executive – athani thrissur branch  • open new customer service accounts. • customer acquisition by promoting the product features and the company goodwill. • recommend apt products to customers as per their requirements.   \n",
      "cresol llp dubai uae (2005 – 2006) \n",
      "admin – assistant \n",
      " \n",
      "• preparing and sending quotations \n",
      "• invoice preparation  • \n",
      "payment follow-up  \n",
      "• visa renewal process for employees. \n",
      " d.o.b: 1st sept 1975 gender:  female marital status: married driving license: india    \n",
      "  \n",
      "\n",
      "personal skills  entrepreneurial hands-on pro-active resourceful  \n",
      "  technical experience \n",
      " \n",
      "• conducted training for new joiners \n",
      "• periodic training provided for staff on customer \n",
      "management. \n",
      "               \n",
      "references academic qualifications  \n",
      "available upon request • master of com merce  course completed 1998  \n",
      "• bachelor of commerce university of calicut 1996 • pdc university of calicut 1993 • sslc 1991 \n",
      " \n",
      "  \n",
      " \n",
      "[' indusind bank']\n",
      "['branch operation', 'cad', 'ssis', 'operations', 'renewal process', 'customer relationship', 'branch operations']\n",
      "kerala-thrissur\n",
      "[]\n",
      "\n",
      "\n"
     ]
    }
   ],
   "source": [
    "%run \"C:/Users/ASUS/Unstructured Data/my_functions..ipynb\""
   ]
  },
  {
   "cell_type": "code",
   "execution_count": 2,
   "id": "bbd9ef18",
   "metadata": {},
   "outputs": [],
   "source": [
    "from my_data import bank, state_district, nbfc, my_list, Insurance, Bse"
   ]
  },
  {
   "cell_type": "markdown",
   "id": "6b9ff29a",
   "metadata": {},
   "source": [
    "# Candidate_Details"
   ]
  },
  {
   "cell_type": "code",
   "execution_count": 3,
   "id": "22b91841",
   "metadata": {},
   "outputs": [],
   "source": [
    "import re\n",
    "pattern = r\"\\b[A-Za-z]+\\b\\s+[A-Za-z]+\\s+[A-Za-z]+\\b\"\n",
    "match = re.search(pattern, text)\n",
    "name = match.group()"
   ]
  },
  {
   "cell_type": "markdown",
   "id": "854cb98c",
   "metadata": {},
   "source": [
    "### Name"
   ]
  },
  {
   "cell_type": "code",
   "execution_count": 4,
   "id": "38d61449",
   "metadata": {},
   "outputs": [
    {
     "name": "stdout",
     "output_type": "stream",
     "text": [
      "MINI            JAYAPRAKASH \n",
      "Mobile\n"
     ]
    }
   ],
   "source": [
    "print(name)"
   ]
  },
  {
   "cell_type": "markdown",
   "id": "308b2f69",
   "metadata": {},
   "source": [
    "### contact_detail"
   ]
  },
  {
   "cell_type": "code",
   "execution_count": 5,
   "id": "adb05809",
   "metadata": {},
   "outputs": [
    {
     "name": "stdout",
     "output_type": "stream",
     "text": [
      "['+91 98955 63402']\n"
     ]
    }
   ],
   "source": [
    "number = extract_mobile_number(text)\n",
    "print(number)"
   ]
  },
  {
   "cell_type": "markdown",
   "id": "7e00fbba",
   "metadata": {},
   "source": [
    "### Emails"
   ]
  },
  {
   "cell_type": "code",
   "execution_count": 6,
   "id": "d7429f52",
   "metadata": {},
   "outputs": [
    {
     "name": "stdout",
     "output_type": "stream",
     "text": [
      "['minijp1980@gmail.com']\n"
     ]
    }
   ],
   "source": [
    "emails = extract_emails(text)\n",
    "print(emails)"
   ]
  },
  {
   "cell_type": "markdown",
   "id": "8a0c566d",
   "metadata": {},
   "source": [
    "### Skills"
   ]
  },
  {
   "cell_type": "code",
   "execution_count": 7,
   "id": "ca67b786",
   "metadata": {},
   "outputs": [
    {
     "name": "stdout",
     "output_type": "stream",
     "text": [
      "branch operation,cad,ssis,operations,renewal process,customer relationship,branch operations\n"
     ]
    }
   ],
   "source": [
    "matching_skills=search_skills(text, my_list)\n",
    "matching_skills_str=','.join(matching_skills)\n",
    "print(matching_skills_str)"
   ]
  },
  {
   "cell_type": "markdown",
   "id": "dbc090d2",
   "metadata": {},
   "source": [
    "### location"
   ]
  },
  {
   "cell_type": "code",
   "execution_count": 8,
   "id": "d2907156",
   "metadata": {},
   "outputs": [
    {
     "name": "stdout",
     "output_type": "stream",
     "text": [
      "kerala-thrissur\n"
     ]
    }
   ],
   "source": [
    "output = find_location(text1, state_district)\n",
    "print(output) "
   ]
  },
  {
   "cell_type": "markdown",
   "id": "fd18ab32",
   "metadata": {},
   "source": [
    "# Candidate_Experience"
   ]
  },
  {
   "cell_type": "markdown",
   "id": "0c9df042",
   "metadata": {},
   "source": [
    "### Total_Year_Experience"
   ]
  },
  {
   "cell_type": "code",
   "execution_count": 9,
   "id": "67994237",
   "metadata": {},
   "outputs": [
    {
     "name": "stdout",
     "output_type": "stream",
     "text": [
      "0\n"
     ]
    }
   ],
   "source": [
    "print(years_of_experience)"
   ]
  },
  {
   "cell_type": "code",
   "execution_count": 10,
   "id": "7309e0e8",
   "metadata": {},
   "outputs": [],
   "source": [
    "#years_of_experience = extract_years_of_experience(text)\n",
    "#print(years_of_experience)"
   ]
  },
  {
   "cell_type": "markdown",
   "id": "2ed000b3",
   "metadata": {},
   "source": [
    "### Bank_name"
   ]
  },
  {
   "cell_type": "code",
   "execution_count": 11,
   "id": "60ee9f69",
   "metadata": {},
   "outputs": [
    {
     "name": "stdout",
     "output_type": "stream",
     "text": [
      "[' indusind bank']\n"
     ]
    }
   ],
   "source": [
    "print(matching_banks)"
   ]
  },
  {
   "cell_type": "markdown",
   "id": "0e99582a",
   "metadata": {},
   "source": [
    "### Nbfc_Name"
   ]
  },
  {
   "cell_type": "code",
   "execution_count": 12,
   "id": "6ba7719d",
   "metadata": {},
   "outputs": [
    {
     "name": "stdout",
     "output_type": "stream",
     "text": [
      "muthoot fincorp\n"
     ]
    }
   ],
   "source": [
    "matching_nbfc = match_nbfc(text1, nbfc)\n",
    "matching_nbfc_str = ','.join(matching_nbfc)\n",
    "print(matching_nbfc_str)"
   ]
  },
  {
   "cell_type": "markdown",
   "id": "e6b5b0ed",
   "metadata": {},
   "source": [
    "### Organization_Name"
   ]
  },
  {
   "cell_type": "code",
   "execution_count": 13,
   "id": "d74fca60",
   "metadata": {},
   "outputs": [
    {
     "name": "stdout",
     "output_type": "stream",
     "text": [
      "\n"
     ]
    }
   ],
   "source": [
    "organization_name = match_org_name(text, Bse)\n",
    "organization_name_s=','.join(organization_name)\n",
    "print(organization_name_s)"
   ]
  },
  {
   "cell_type": "markdown",
   "id": "49f54e11",
   "metadata": {},
   "source": [
    "### Organization_Name1"
   ]
  },
  {
   "cell_type": "code",
   "execution_count": 14,
   "id": "715dc194",
   "metadata": {},
   "outputs": [
    {
     "name": "stdout",
     "output_type": "stream",
     "text": [
      "\n"
     ]
    }
   ],
   "source": [
    "organization_name =find_org2(text1, insurance1)\n",
    "organization_name_s=','.join(organization_name)\n",
    "print(organization_name_s)"
   ]
  },
  {
   "cell_type": "markdown",
   "id": "c0eea2b2",
   "metadata": {},
   "source": [
    "# Converting into DataFrame"
   ]
  },
  {
   "cell_type": "code",
   "execution_count": 15,
   "id": "212731c5",
   "metadata": {},
   "outputs": [],
   "source": [
    "resume_df = {\"Name\": name,\"Phone_number\":Number,\"Email\":emails,\"Year of experience\":years_of_experience,\"Bank\":matching_banks,\"Nbfc\":matching_nbfc_str,\"organization_name\":organization_name_s,\"skills\":matching_skills_str,\"locaton\":location_1}"
   ]
  },
  {
   "cell_type": "code",
   "execution_count": 16,
   "id": "e41424bb",
   "metadata": {},
   "outputs": [
    {
     "data": {
      "text/plain": [
       "{'Name': 'MINI            JAYAPRAKASH \\nMobile',\n",
       " 'Phone_number': ['+91 98955 63402'],\n",
       " 'Email': ['minijp1980@gmail.com'],\n",
       " 'Year of experience': 0,\n",
       " 'Bank': [' indusind bank'],\n",
       " 'Nbfc': 'muthoot fincorp',\n",
       " 'organization_name': '',\n",
       " 'skills': 'branch operation,cad,ssis,operations,renewal process,customer relationship,branch operations',\n",
       " 'locaton': []}"
      ]
     },
     "execution_count": 16,
     "metadata": {},
     "output_type": "execute_result"
    }
   ],
   "source": [
    "resume_df"
   ]
  },
  {
   "cell_type": "code",
   "execution_count": 17,
   "id": "591d1829",
   "metadata": {},
   "outputs": [],
   "source": [
    "import pandas as pd"
   ]
  },
  {
   "cell_type": "code",
   "execution_count": 18,
   "id": "ac0d4167",
   "metadata": {},
   "outputs": [],
   "source": [
    "df=pd.DataFrame.from_dict(resume_df, orient='index').transpose()"
   ]
  },
  {
   "cell_type": "code",
   "execution_count": 19,
   "id": "09053c43",
   "metadata": {},
   "outputs": [
    {
     "data": {
      "text/html": [
       "<div>\n",
       "<style scoped>\n",
       "    .dataframe tbody tr th:only-of-type {\n",
       "        vertical-align: middle;\n",
       "    }\n",
       "\n",
       "    .dataframe tbody tr th {\n",
       "        vertical-align: top;\n",
       "    }\n",
       "\n",
       "    .dataframe thead th {\n",
       "        text-align: right;\n",
       "    }\n",
       "</style>\n",
       "<table border=\"1\" class=\"dataframe\">\n",
       "  <thead>\n",
       "    <tr style=\"text-align: right;\">\n",
       "      <th></th>\n",
       "      <th>Name</th>\n",
       "      <th>Phone_number</th>\n",
       "      <th>Email</th>\n",
       "      <th>Year of experience</th>\n",
       "      <th>Bank</th>\n",
       "      <th>Nbfc</th>\n",
       "      <th>organization_name</th>\n",
       "      <th>skills</th>\n",
       "      <th>locaton</th>\n",
       "    </tr>\n",
       "  </thead>\n",
       "  <tbody>\n",
       "    <tr>\n",
       "      <th>0</th>\n",
       "      <td>MINI            JAYAPRAKASH \\nMobile</td>\n",
       "      <td>[+91 98955 63402]</td>\n",
       "      <td>[minijp1980@gmail.com]</td>\n",
       "      <td>0</td>\n",
       "      <td>[ indusind bank]</td>\n",
       "      <td>muthoot fincorp</td>\n",
       "      <td></td>\n",
       "      <td>branch operation,cad,ssis,operations,renewal p...</td>\n",
       "      <td>[]</td>\n",
       "    </tr>\n",
       "  </tbody>\n",
       "</table>\n",
       "</div>"
      ],
      "text/plain": [
       "                                   Name       Phone_number  \\\n",
       "0  MINI            JAYAPRAKASH \\nMobile  [+91 98955 63402]   \n",
       "\n",
       "                    Email Year of experience              Bank  \\\n",
       "0  [minijp1980@gmail.com]                  0  [ indusind bank]   \n",
       "\n",
       "              Nbfc organization_name  \\\n",
       "0  muthoot fincorp                     \n",
       "\n",
       "                                              skills locaton  \n",
       "0  branch operation,cad,ssis,operations,renewal p...      []  "
      ]
     },
     "execution_count": 19,
     "metadata": {},
     "output_type": "execute_result"
    }
   ],
   "source": [
    "df"
   ]
  },
  {
   "cell_type": "code",
   "execution_count": null,
   "id": "22a89303",
   "metadata": {},
   "outputs": [],
   "source": []
  },
  {
   "cell_type": "markdown",
   "id": "ab093fc9",
   "metadata": {},
   "source": [
    "# Saving as Excel File"
   ]
  },
  {
   "cell_type": "code",
   "execution_count": 20,
   "id": "19baf399",
   "metadata": {},
   "outputs": [],
   "source": [
    "df.to_excel('CSB00.xlsx', index=False)\n"
   ]
  },
  {
   "cell_type": "code",
   "execution_count": 21,
   "id": "273a22cb",
   "metadata": {},
   "outputs": [
    {
     "data": {
      "text/plain": [
       "'C:\\\\Users\\\\ASUS\\\\Unstructured Data'"
      ]
     },
     "execution_count": 21,
     "metadata": {},
     "output_type": "execute_result"
    }
   ],
   "source": [
    "import os\n",
    "os.getcwd()"
   ]
  },
  {
   "cell_type": "code",
   "execution_count": null,
   "id": "76de533f",
   "metadata": {},
   "outputs": [],
   "source": []
  }
 ],
 "metadata": {
  "kernelspec": {
   "display_name": "Python 3 (ipykernel)",
   "language": "python",
   "name": "python3"
  },
  "language_info": {
   "codemirror_mode": {
    "name": "ipython",
    "version": 3
   },
   "file_extension": ".py",
   "mimetype": "text/x-python",
   "name": "python",
   "nbconvert_exporter": "python",
   "pygments_lexer": "ipython3",
   "version": "3.9.13"
  }
 },
 "nbformat": 4,
 "nbformat_minor": 5
}
