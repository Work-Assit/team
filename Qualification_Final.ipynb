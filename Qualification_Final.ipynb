{
 "cells": [
  {
   "cell_type": "code",
   "execution_count": 1,
   "id": "c099a4a3",
   "metadata": {},
   "outputs": [],
   "source": [
    "from my_database8 import degrees"
   ]
  },
  {
   "cell_type": "code",
   "execution_count": 2,
   "id": "398ebd5a",
   "metadata": {},
   "outputs": [
    {
     "name": "stdout",
     "output_type": "stream",
     "text": [
      "CV data saved to: C:\\Users\\ASUS\\Desktop\\cv_result\\cv_quailfication.xlsx\n"
     ]
    }
   ],
   "source": [
    "import glob\n",
    "import os\n",
    "import shutil\n",
    "import re\n",
    "from docx import Document\n",
    "from openpyxl import Workbook\n",
    "\n",
    "\n",
    "def qualification(text, degrees):\n",
    "    for degree, areas in degrees.items():\n",
    "        for area in areas:\n",
    "            if area in text:\n",
    "                return f\"{degree} - {area}\"\n",
    "    return None\n",
    "\n",
    "\n",
    "# Set the source folder path where the CV files are located\n",
    "source_folder = \"C:\\\\Users\\\\ASUS\\\\Downloads\\\\workassist_293_cv\"\n",
    "\n",
    "# Set the destination folder path where you want to save the extracted CVs and data\n",
    "destination_folder = \"C:\\\\Users\\\\ASUS\\\\Desktop\\\\cv_result\"\n",
    "\n",
    "# Create the destination folder if it doesn't exist\n",
    "os.makedirs(destination_folder, exist_ok=True)\n",
    "\n",
    "# Use glob to get a list of all CV files in the source folder\n",
    "cv_files = glob.glob(os.path.join(source_folder, \"*.pdf\")) + glob.glob(os.path.join(source_folder, \"*.docx\"))\n",
    "\n",
    "# Create a new Excel workbook\n",
    "workbook = Workbook()\n",
    "worksheet = workbook.active\n",
    "\n",
    "# Write headers to the worksheet\n",
    "worksheet.append([\"CV File\", \"Qualification\"])\n",
    "\n",
    "\n",
    "# Iterate over each CV file\n",
    "for i, cv_file in enumerate(cv_files, start=1):\n",
    "    # Skip temporary Word files\n",
    "    if os.path.basename(cv_file).startswith(\"~$\"):\n",
    "        print(f\"Skipping file {cv_file} - temporary Word file.\")\n",
    "        continue\n",
    "\n",
    "    # Read the content of the CV file\n",
    "    _, ext = os.path.splitext(cv_file)\n",
    "    if ext == '.pdf':\n",
    "        with open(cv_file, 'rb') as file:\n",
    "            cv_content = file.read().decode('utf-8', errors='ignore')\n",
    "    elif ext == '.docx':\n",
    "        doc = Document(cv_file)\n",
    "        paragraphs = [p.text for p in doc.paragraphs]\n",
    "        cv_content = '\\n'.join(paragraphs)\n",
    "    else:\n",
    "        print(f\"Skipping file {cv_file} - unsupported file format.\")\n",
    "        continue\n",
    "\n",
    "    # Extract the qualification from the CV content\n",
    "    qualification_ug = qualification(cv_content, degrees)\n",
    "\n",
    "    # Extract only the CV name from the file name\n",
    "    cv_name = os.path.basename(cv_file)\n",
    "\n",
    "    # Create a new filename for the extracted CV based on the location\n",
    "    filename = f\"cv{i}={cv_name}.pdf\"\n",
    "\n",
    "    # Set the destination path for the extracted CV\n",
    "    destination_path = os.path.join(destination_folder, filename)\n",
    "\n",
    "    # Copy the CV file to the destination folder with the new filename\n",
    "    shutil.copyfile(cv_file, destination_path)\n",
    "\n",
    "    # Write the CV file name and qualification to the worksheet\n",
    "    worksheet.append([cv_name, qualification_ug])\n",
    "\n",
    "# Save the workbook as an Excel file\n",
    "excel_file = os.path.join(destination_folder, \"cv_quailfication.xlsx\")\n",
    "workbook.save(excel_file)\n",
    "\n",
    "# Print the path to the Excel file\n",
    "print(f\"CV data saved to: {excel_file}\")\n"
   ]
  },
  {
   "cell_type": "code",
   "execution_count": null,
   "id": "0f972556",
   "metadata": {},
   "outputs": [],
   "source": []
  }
 ],
 "metadata": {
  "kernelspec": {
   "display_name": "Python 3 (ipykernel)",
   "language": "python",
   "name": "python3"
  },
  "language_info": {
   "codemirror_mode": {
    "name": "ipython",
    "version": 3
   },
   "file_extension": ".py",
   "mimetype": "text/x-python",
   "name": "python",
   "nbconvert_exporter": "python",
   "pygments_lexer": "ipython3",
   "version": "3.9.7"
  }
 },
 "nbformat": 4,
 "nbformat_minor": 5
}
